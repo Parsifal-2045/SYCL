{
 "cells": [
  {
   "cell_type": "code",
   "execution_count": 19,
   "metadata": {},
   "outputs": [],
   "source": [
    "import pandas as pd\n",
    "import matplotlib.pyplot as plt\n",
    "import numpy as np"
   ]
  },
  {
   "cell_type": "code",
   "execution_count": 20,
   "metadata": {},
   "outputs": [],
   "source": [
    "file_Olice_cpu = pd.read_csv(\"aniso_1000_CUDA_gpu.csv\")\n",
    "file_Olice_gpu = pd.read_csv(\"aniso_1000_Olice_gpu.csv\")\n",
    "file_SYCL_cpu = pd.read_csv(\"aniso_1000_SYCL_cpu.csv\")\n",
    "file_SYCL_gpu = pd.read_csv(\"aniso_1000_SYCL_gpu.csv\")"
   ]
  },
  {
   "cell_type": "code",
   "execution_count": 21,
   "metadata": {},
   "outputs": [],
   "source": [
    "def compare_plots(cuda, oneapi, name, title = None):\n",
    "    fig = plt.figure(figsize=(14,6))\n",
    "    if title == None:\n",
    "        plt.suptitle(\"Comparison betwwen CUDA and oneAPI for \" + name)\n",
    "    else:\n",
    "        plt.suptitle(\"Comparison betwwen CUDA and oneAPI for \" + title)\n",
    "    \n",
    "    plt.subplot(121)\n",
    "    plt.plot(cuda[name])\n",
    "    plt.title(\"CUDA\")\n",
    "    plt.xlabel(\"index\")\n",
    "    plt.ylabel(name)\n",
    "\n",
    "    plt.subplot(122)\n",
    "    plt.plot(oneapi[name])\n",
    "    plt.title(\"oneAPI\")\n",
    "    plt.xlabel(\"index\")\n",
    "    plt.ylabel(name)\n",
    "    plt.show()\n",
    "\n",
    "def compare_hists(cuda, oneapi, name, title = None):\n",
    "    fig = plt.figure(figsize=(14,6))\n",
    "    if title == None:\n",
    "        plt.suptitle(\"Comparison betwwen CUDA and oneAPI for \" + name)\n",
    "    else:\n",
    "        plt.suptitle(\"Comparison betwwen CUDA and oneAPI for \" + title)    \n",
    "    \n",
    "    plt.subplot(121)\n",
    "    plt.hist(cuda[name][:10000], bins = int(max(cuda[name])+2))\n",
    "    plt.title(\"CUDA\")\n",
    "    plt.xlabel(name)\n",
    "    plt.ylabel(\"Counts\")\n",
    "\n",
    "    plt.subplot(122)\n",
    "    plt.hist(oneapi[name][:10000], bins = int(max(oneapi[name])+2))\n",
    "    plt.title(\"oneAPI\")\n",
    "    plt.xlabel(name)\n",
    "    plt.ylabel(\"Counts\")\n",
    "    plt.show()"
   ]
  },
  {
   "cell_type": "code",
   "execution_count": 22,
   "metadata": {},
   "outputs": [],
   "source": [
    "#compare_hists(file_cuda, file_oneAPI, \"isSeed\")\n",
    "#compare_hists(file_cuda, file_oneAPI, \"rho\")\n",
    "#compare_hists(file_cuda, file_oneAPI, \"delta\")\n",
    "#compare_hists(file_cuda, file_oneAPI, \"nh\", title=\"nearest neighbour\")\n",
    "#compare_hists(file_cuda, file_oneAPI, \"clusterId\")"
   ]
  },
  {
   "cell_type": "code",
   "execution_count": 23,
   "metadata": {},
   "outputs": [
    {
     "data": {
      "text/plain": [
       "0"
      ]
     },
     "execution_count": 23,
     "metadata": {},
     "output_type": "execute_result"
    }
   ],
   "source": [
    "name = \"clusterId\"\n",
    "bins = max(file_Olice_cpu[name])+2\n",
    "ochist, ocbins = np.histogram(file_Olice_cpu[name], bins = bins)\n",
    "oghist, ogbins = np.histogram(file_Olice_gpu[name], bins=bins)\n",
    "schist, ocbins = np.histogram(file_SYCL_cpu[name], bins = bins)\n",
    "sghist, ogbins = np.histogram(file_SYCL_gpu[name], bins = bins)\n",
    "\n",
    "ochist = np.sort(ochist)\n",
    "oghist = np.sort(oghist)\n",
    "schist = np.sort(schist)\n",
    "sghist = np.sort(sghist)\n",
    "\n",
    "wrong = 0\n",
    "for i,j, k, l in zip(ochist, oghist, schist, sghist):\n",
    "    if i != j or i != k or i != l or j != k or j != l or k != l:\n",
    "        wrong += 1\n",
    "wrong"
   ]
  },
  {
   "cell_type": "code",
   "execution_count": 24,
   "metadata": {},
   "outputs": [],
   "source": [
    "#plt.figure(dpi=300)\n",
    "#plt.scatter(cbins[:-1], np.sort(chist), color = 'dodgerblue', label = 'CPU', alpha=0.5)\n",
    "#plt.scatter(cbins[:-1], np.sort(ghist), color = 'red', label = 'GPU', alpha=0.5)\n",
    "#plt.xlabel(name)\n",
    "#plt.ylabel(\"Counts\")\n",
    "#plt.legend()"
   ]
  }
 ],
 "metadata": {
  "kernelspec": {
   "display_name": "Python 3.8.10 64-bit",
   "language": "python",
   "name": "python3"
  },
  "language_info": {
   "codemirror_mode": {
    "name": "ipython",
    "version": 3
   },
   "file_extension": ".py",
   "mimetype": "text/x-python",
   "name": "python",
   "nbconvert_exporter": "python",
   "pygments_lexer": "ipython3",
   "version": "3.8.10"
  },
  "orig_nbformat": 4,
  "vscode": {
   "interpreter": {
    "hash": "916dbcbb3f70747c44a77c7bcd40155683ae19c65e1c03b4aa3499c5328201f1"
   }
  }
 },
 "nbformat": 4,
 "nbformat_minor": 2
}
